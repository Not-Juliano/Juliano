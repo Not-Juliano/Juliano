{
 "cells": [
  {
   "cell_type": "code",
   "execution_count": 3,
   "metadata": {},
   "outputs": [],
   "source": [
    "#test\n",
    "import requests\n",
    "#location of our flask server\n",
    "Base= \"http://127.0.0.1:5000/\"\n",
    "\n",
    "#the data you want to enter in the form of a dictionary\n",
    "data = [{\"name\":\"FFXV\", \"genre\":\"Fantasy\", \"summary\":\"The story of Final Fantasy XV follows Prince Noctis and his friends as he embarks on a journey to reclaim his kingdom that has been invaded by the empire of Niflheim\"}\n",
    "\n",
    "\n",
    "]\n"
   ]
  },
  {
   "cell_type": "code",
   "execution_count": 4,
   "metadata": {},
   "outputs": [
    {
     "name": "stdout",
     "output_type": "stream",
     "text": [
      "{'message': 'ID taken'}\n"
     ]
    }
   ],
   "source": [
    "#for loop that enters the data aswell as adds a link. E.g the first data entry is games/0\n",
    "\n",
    "for i in range(len(data)):\n",
    "    response= requests.post(Base + \"games/\" + str(i), data[i])\n",
    "    print(response.json())"
   ]
  },
  {
   "cell_type": "code",
   "execution_count": null,
   "metadata": {},
   "outputs": [],
   "source": []
  }
 ],
 "metadata": {
  "interpreter": {
   "hash": "b1abf6338287e8fa949722727abc0245961cba575c97bc6c3552278f3d964f27"
  },
  "kernelspec": {
   "display_name": "Python 3.9.7 64-bit ('base': conda)",
   "language": "python",
   "name": "python3"
  },
  "language_info": {
   "codemirror_mode": {
    "name": "ipython",
    "version": 3
   },
   "file_extension": ".py",
   "mimetype": "text/x-python",
   "name": "python",
   "nbconvert_exporter": "python",
   "pygments_lexer": "ipython3",
   "version": "3.9.7"
  },
  "orig_nbformat": 4
 },
 "nbformat": 4,
 "nbformat_minor": 2
}

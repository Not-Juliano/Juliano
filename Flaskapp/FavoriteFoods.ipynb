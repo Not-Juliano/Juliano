{
 "cells": [
  {
   "cell_type": "code",
   "execution_count": 56,
   "metadata": {},
   "outputs": [
    {
     "name": "stdout",
     "output_type": "stream",
     "text": [
      " * Serving Flask app \"__main__\" (lazy loading)\n",
      " * Environment: production\n",
      "   WARNING: This is a development server. Do not use it in a production deployment.\n",
      "   Use a production WSGI server instead.\n",
      " * Debug mode: on\n"
     ]
    },
    {
     "name": "stderr",
     "output_type": "stream",
     "text": [
      " * Running on http://127.0.0.1:5000/ (Press CTRL+C to quit)\n",
      "127.0.0.1 - - [17/Jan/2022 10:51:55] \"\u001b[37mGET /Japanese HTTP/1.1\u001b[0m\" 200 -\n",
      "127.0.0.1 - - [17/Jan/2022 10:51:55] \"\u001b[37mGET /favicon.ico HTTP/1.1\u001b[0m\" 200 -\n"
     ]
    }
   ],
   "source": [
    "#imports\n",
    "from flask import Flask, redirect, url_for, render_template, request\n",
    "\n",
    "app = Flask(__name__)\n",
    "\n",
    "#List of choices\n",
    "#left as a template\n",
    "\n",
    "Japanese = {\n",
    "  \"Ajisen Ramen\":{\n",
    "  \"Address\": \"14 Mott St, New York, NY 10013\",\n",
    "  \"Distance\": \"0.3 miles\",\n",
    "  \"Favorite menu item\":\"Chicken Katsu curry\"},\n",
    "  \n",
    "  \n",
    " \"gogocurry\":{\n",
    "  \"Address\": \"World Trade Center, 12 John St, New York, NY 10038\",\n",
    "  \"Distance\": \"0.6 miles\",\n",
    "  \"Favorite menu item\":\"Chicken Katsu curry\"}\n",
    "  }\n",
    "\n",
    "Mexican = {\n",
    "  \"Name\": \"Ford\",\n",
    "  \"Address\": \"Mustang\",\n",
    "  \"Favorite item\": 1964}\n",
    "\n",
    "Indian = {\n",
    "  \"brand\": \"Ford\",\n",
    "  \"model\": \"Mustang\",\n",
    "  \"year\": 1964}\n",
    "\n",
    "American = {\n",
    "  \"brand\": \"Ford\",\n",
    "  \"model\": \"Mustang\",\n",
    "  \"year\": 1964}\n",
    "\n",
    "Chinese = {\n",
    "  \"brand\": \"Ford\",\n",
    "  \"model\": \"Mustang\",\n",
    "  \"year\": 1964}\n",
    "\n",
    "Italian = {\n",
    "  \"brand\": \"Ford\",\n",
    "  \"model\": \"Mustang\",\n",
    "  \"year\": 1964}\n",
    "\n",
    "\n",
    "#Homepage\n",
    "@app.route(\"/\")\n",
    "def home():\n",
    "    return render_template(\"index.html\")\n",
    "\n",
    "\n",
    "#User entry page\n",
    "@app.route(\"/Find_Food\", methods=[\"POST\", \"GET\"])\n",
    "def food():\n",
    "    if request.method == \"POST\":\n",
    "        foodtype=request.form.get(\"Type\")\n",
    "        return redirect(url_for(\"ChosenFood\", chosen=foodtype)) #setting chosen to users input\n",
    "    else:\n",
    "        return render_template(\"input.html\")\n",
    "\n",
    "#dynamic routing with if statments that lead to existing databases\n",
    "@app.route(\"/<chosen>\")\n",
    "def ChosenFood(chosen):\n",
    "\n",
    "\n",
    "  if chosen == \"Mexican\":\n",
    "    return Mexican\n",
    "  if chosen == \"Italian\":\n",
    "    return Italian\n",
    "  if chosen == \"American\":\n",
    "    return American\n",
    "  if chosen == \"Chinese\":\n",
    "    return Chinese\n",
    "  if chosen == \"Indian\":\n",
    "    return Indian\n",
    "  if chosen == \"Japanese\":\n",
    "    return Japanese\n",
    "\n",
    "  else:\n",
    "    return f\"<h1>There are no options in the database for {chosen}. Make sure the first letter is capitalized</h1>\"\n",
    "\n",
    "\n",
    "\n",
    "\n",
    "\n",
    "\n",
    "\n",
    "if __name__ == \"__main__\":\n",
    "    app.run(debug=True, use_reloader=False)"
   ]
  },
  {
   "cell_type": "code",
   "execution_count": null,
   "metadata": {},
   "outputs": [],
   "source": []
  },
  {
   "cell_type": "code",
   "execution_count": null,
   "metadata": {},
   "outputs": [],
   "source": []
  }
 ],
 "metadata": {
  "interpreter": {
   "hash": "b1abf6338287e8fa949722727abc0245961cba575c97bc6c3552278f3d964f27"
  },
  "kernelspec": {
   "display_name": "Python 3.9.7 64-bit ('base': conda)",
   "language": "python",
   "name": "python3"
  },
  "language_info": {
   "codemirror_mode": {
    "name": "ipython",
    "version": 3
   },
   "file_extension": ".py",
   "mimetype": "text/x-python",
   "name": "python",
   "nbconvert_exporter": "python",
   "pygments_lexer": "ipython3",
   "version": "3.9.7"
  },
  "orig_nbformat": 4
 },
 "nbformat": 4,
 "nbformat_minor": 2
}
